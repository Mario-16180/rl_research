{
 "cells": [
  {
   "cell_type": "markdown",
   "metadata": {},
   "source": [
    "# 0. Importing libraries "
   ]
  },
  {
   "cell_type": "code",
   "execution_count": 91,
   "metadata": {},
   "outputs": [],
   "source": [
    "import gym\n",
    "import warnings\n",
    "import random\n",
    "import torch\n",
    "import numpy as np\n",
    "import torch.nn as nn\n",
    "import matplotlib.pyplot as plt\n",
    "warnings.filterwarnings('ignore', category=DeprecationWarning)\n",
    "warnings.filterwarnings('ignore', category=UserWarning)"
   ]
  },
  {
   "cell_type": "markdown",
   "metadata": {},
   "source": [
    "# 1 Preprocessing techniques"
   ]
  },
  {
   "cell_type": "code",
   "execution_count": 60,
   "metadata": {},
   "outputs": [],
   "source": [
    "def set_pkg_seed(seed: int, use_cuda: bool = True) -> None:\n",
    "    random.seed(seed)\n",
    "    np.random.seed(seed)\n",
    "    torch.manual_seed(seed)\n",
    "    if use_cuda and torch.cuda.is_available():\n",
    "        torch.cuda.manual_seed(seed)"
   ]
  },
  {
   "cell_type": "code",
   "execution_count": 95,
   "metadata": {},
   "outputs": [],
   "source": [
    "env_name = \"procgen:procgen-bossfight-v0\"\n",
    "env = gym.make(env_name, start_level=1, use_backgrounds = False)\n",
    "\n",
    "obs = env.reset()"
   ]
  },
  {
   "cell_type": "code",
   "execution_count": 97,
   "metadata": {},
   "outputs": [],
   "source": [
    "plt.imshow(obs)"
   ]
  },
  {
   "cell_type": "code",
   "execution_count": 88,
   "metadata": {},
   "outputs": [
    {
     "name": "stdout",
     "output_type": "stream",
     "text": [
      "0.0 step:  0\n",
      "0.0 step:  1\n",
      "0.0 step:  2\n",
      "0.0 step:  3\n",
      "0.0 step:  4\n",
      "0.0 step:  5\n",
      "0.0 step:  6\n",
      "0.0 step:  7\n",
      "0.0 step:  8\n",
      "0.0 step:  9\n",
      "0.0 step:  10\n",
      "0.0 step:  11\n",
      "0.0 step:  12\n",
      "0.0 step:  13\n",
      "0.0 step:  14\n",
      "0.0 step:  15\n",
      "0.0 step:  16\n",
      "0.0 step:  17\n",
      "0.0 step:  18\n",
      "0.0 step:  19\n",
      "0.0 step:  20\n",
      "0.0 step:  21\n",
      "0.0 step:  22\n",
      "0.0 step:  23\n",
      "0.0 step:  24\n",
      "0.0 step:  25\n",
      "0.0 step:  26\n",
      "0.0 step:  27\n",
      "0.0 step:  28\n",
      "0.0 step:  29\n",
      "0.0 step:  30\n",
      "0.0 step:  31\n",
      "0.0 step:  32\n",
      "0.0 step:  33\n",
      "0.0 step:  34\n",
      "0.0 step:  35\n",
      "0.0 step:  36\n",
      "0.0 step:  37\n",
      "0.0 step:  38\n",
      "0.0 step:  39\n",
      "0.0 step:  40\n",
      "0.0 step:  41\n",
      "0.0 step:  42\n",
      "0.0 step:  43\n",
      "0.0 step:  44\n",
      "0.0 step:  45\n",
      "0.0 step:  46\n",
      "0.0 step:  47\n",
      "0.0 step:  48\n",
      "0.0 step:  49\n",
      "0.0 step:  50\n",
      "0.0 step:  51\n",
      "0.0 step:  52\n",
      "0.0 step:  53\n",
      "0.0 step:  54\n",
      "0.0 step:  55\n",
      "0.0 step:  56\n",
      "0.0 step:  57\n",
      "0.0 step:  58\n",
      "0.0 step:  59\n",
      "0.0 step:  60\n",
      "0.0 step:  61\n",
      "0.0 step:  62\n",
      "0.0 step:  63\n",
      "0.0 step:  64\n",
      "0.0 step:  65\n",
      "0.0 step:  66\n",
      "0.0 step:  67\n",
      "0.0 step:  68\n",
      "0.0 step:  69\n",
      "0.0 step:  70\n",
      "0.0 step:  71\n",
      "0.0 step:  72\n",
      "0.0 step:  73\n",
      "0.0 step:  74\n",
      "0.0 step:  75\n",
      "0.0 step:  76\n",
      "0.0 step:  77\n",
      "0.0 step:  78\n",
      "0.0 step:  79\n",
      "0.0 step:  80\n",
      "0.0 step:  81\n",
      "0.0 step:  82\n",
      "0.0 step:  83\n",
      "0.0 step:  84\n",
      "0.0 step:  85\n",
      "0.0 step:  86\n",
      "0.0 step:  87\n",
      "0.0 step:  88\n"
     ]
    }
   ],
   "source": [
    "set_pkg_seed(0)\n",
    "env_name = \"procgen:procgen-bossfight-v0\"\n",
    "env = gym.make(env_name, start_level=1, use_sequential_levels=False)\n",
    "\n",
    "obs = env.reset()\n",
    "iter = 0\n",
    "while True:\n",
    "    obs, rew, done, info = env.step(4)\n",
    "    print(rew, 'step: ', iter)\n",
    "    iter += 1\n",
    "    if done:\n",
    "        break"
   ]
  },
  {
   "cell_type": "code",
   "execution_count": null,
   "metadata": {},
   "outputs": [],
   "source": []
  }
 ],
 "metadata": {
  "kernelspec": {
   "display_name": "Python 3",
   "language": "python",
   "name": "python3"
  },
  "language_info": {
   "codemirror_mode": {
    "name": "ipython",
    "version": 3
   },
   "file_extension": ".py",
   "mimetype": "text/x-python",
   "name": "python",
   "nbconvert_exporter": "python",
   "pygments_lexer": "ipython3",
   "version": "3.8.18"
  },
  "orig_nbformat": 4
 },
 "nbformat": 4,
 "nbformat_minor": 2
}
