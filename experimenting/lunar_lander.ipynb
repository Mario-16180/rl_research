{
 "cells": [
  {
   "cell_type": "code",
   "execution_count": 1,
   "metadata": {},
   "outputs": [
    {
     "name": "stdout",
     "output_type": "stream",
     "text": [
      "Using device: cuda\n"
     ]
    }
   ],
   "source": [
    "import gym\n",
    "import torch\n",
    "import torch.nn as nn\n",
    "import pickle\n",
    "import wandb\n",
    "import pandas as pd\n",
    "import warnings\n",
    "import argparse\n",
    "import numpy as np\n",
    "import random\n",
    "from tqdm import tqdm\n",
    "from collections import deque\n",
    "from models.lunar_lander_dqn_architecture import lunar_lander_mlp\n",
    "from rl_utils.stack_frames import stacked_frames_class\n",
    "from rl_utils.replay_buffer import memory\n",
    "from rl_utils.replay_buffer import memory_with_curriculum\n",
    "from rl_utils.optimization import perform_optimization_step\n",
    "\n",
    "if torch.cuda.device_count() > 1:\n",
    "    device = torch.device(\"cuda:\"+gpu if torch.cuda.is_available() else \"cpu\")\n",
    "    print(f\"Using device: {device}\")\n",
    "else:\n",
    "    device = torch.device(\"cuda\" if torch.cuda.is_available() else \"cpu\")\n",
    "    print(f\"Using device: {device}\")"
   ]
  },
  {
   "cell_type": "code",
   "execution_count": 2,
   "metadata": {},
   "outputs": [],
   "source": [
    "env = gym.make('LunarLander-v2')\n",
    "obs = env.reset(seed=42)"
   ]
  },
  {
   "cell_type": "code",
   "execution_count": 3,
   "metadata": {},
   "outputs": [
    {
     "data": {
      "text/plain": [
       "array([ 0.00229702,  1.4181306 ,  0.2326471 ,  0.3204666 , -0.00265488,\n",
       "       -0.05269805,  0.        ,  0.        ], dtype=float32)"
      ]
     },
     "execution_count": 3,
     "metadata": {},
     "output_type": "execute_result"
    }
   ],
   "source": [
    "obs[0]"
   ]
  },
  {
   "cell_type": "code",
   "execution_count": 4,
   "metadata": {},
   "outputs": [
    {
     "data": {
      "text/plain": [
       "8"
      ]
     },
     "execution_count": 4,
     "metadata": {},
     "output_type": "execute_result"
    }
   ],
   "source": [
    "env.observation_space.shape[0]"
   ]
  },
  {
   "cell_type": "code",
   "execution_count": 5,
   "metadata": {},
   "outputs": [],
   "source": [
    "model = lunar_lander_mlp(env, 64, 64)"
   ]
  },
  {
   "cell_type": "code",
   "execution_count": 6,
   "metadata": {},
   "outputs": [
    {
     "data": {
      "text/plain": [
       "tensor([-0.1386, -0.0539,  0.0770,  0.0437], grad_fn=<AddBackward0>)"
      ]
     },
     "execution_count": 6,
     "metadata": {},
     "output_type": "execute_result"
    }
   ],
   "source": [
    "model(obs[0])"
   ]
  },
  {
   "cell_type": "code",
   "execution_count": 40,
   "metadata": {},
   "outputs": [
    {
     "name": "stderr",
     "output_type": "stream",
     "text": [
      "/home/mario.cantero/.conda/envs/rl_research/lib/python3.8/site-packages/gym/utils/passive_env_checker.py:233: DeprecationWarning: `np.bool8` is a deprecated alias for `np.bool_`.  (Deprecated NumPy 1.24)\n",
      "  if not isinstance(terminated, (bool, np.bool8)):\n"
     ]
    },
    {
     "name": "stdout",
     "output_type": "stream",
     "text": [
      "8 8\n",
      "8 8\n",
      "8 8\n",
      "8 8\n",
      "8 8\n",
      "8 8\n",
      "8 8\n",
      "8 8\n",
      "8 8\n",
      "8 8\n",
      "8 8\n",
      "8 8\n",
      "8 8\n",
      "8 8\n",
      "8 8\n",
      "8 8\n",
      "8 8\n",
      "8 8\n",
      "8 8\n",
      "8 8\n",
      "8 8\n",
      "8 8\n",
      "8 8\n",
      "8 8\n",
      "8 8\n",
      "8 8\n",
      "8 8\n",
      "8 8\n",
      "8 8\n",
      "8 8\n",
      "8 8\n",
      "8 8\n",
      "8 8\n",
      "8 8\n",
      "8 8\n",
      "8 8\n",
      "8 8\n",
      "8 8\n",
      "8 8\n",
      "8 8\n",
      "8 8\n",
      "8 8\n",
      "8 8\n",
      "8 8\n",
      "8 8\n",
      "8 8\n",
      "8 8\n",
      "8 8\n",
      "8 8\n",
      "8 8\n",
      "8 8\n",
      "8 8\n",
      "8 8\n",
      "8 8\n",
      "8 8\n",
      "8 8\n",
      "8 8\n",
      "8 8\n",
      "8 8\n",
      "8 8\n",
      "8 8\n",
      "8 8\n",
      "8 8\n",
      "8 8\n",
      "8 8\n",
      "8 8\n",
      "8 8\n",
      "8 8\n",
      "8 8\n",
      "8 8\n",
      "8 8\n",
      "8 8\n",
      "8 8\n",
      "8 8\n",
      "8 8\n",
      "8 8\n",
      "8 8\n",
      "8 8\n",
      "8 8\n",
      "8 8\n",
      "8 8\n",
      "8 8\n",
      "8 8\n",
      "8 8\n",
      "8 8\n",
      "8 8\n",
      "8 8\n",
      "8 8\n",
      "8 8\n",
      "8 8\n",
      "8 8\n",
      "8 8\n",
      "8 8\n",
      "8 8\n",
      "8 8\n",
      "8 8\n",
      "8 8\n",
      "8 8\n",
      "8 8\n",
      "8 8\n",
      "8 8\n",
      "8 8\n",
      "8 8\n",
      "8 8\n",
      "8 8\n",
      "8 8\n",
      "8 8\n",
      "8 8\n",
      "8 8\n",
      "8 8\n",
      "8 8\n",
      "8 8\n",
      "8 8\n",
      "8 8\n",
      "8 8\n",
      "8 8\n",
      "8 8\n",
      "8 8\n",
      "8 8\n",
      "8 8\n",
      "8 8\n",
      "8 8\n",
      "8 8\n",
      "8 8\n",
      "8 8\n",
      "8 8\n",
      "8 8\n",
      "8 8\n",
      "8 8\n",
      "8 8\n",
      "8 8\n",
      "8 8\n",
      "8 8\n",
      "8 8\n",
      "8 8\n",
      "8 8\n",
      "8 8\n",
      "8 8\n",
      "8 8\n",
      "8 8\n",
      "8 8\n",
      "8 8\n",
      "8 8\n",
      "8 8\n",
      "8 8\n",
      "8 8\n",
      "8 8\n",
      "8 8\n",
      "8 8\n",
      "8 8\n",
      "8 8\n",
      "8 8\n",
      "8 8\n",
      "8 8\n",
      "8 8\n",
      "8 8\n",
      "8 8\n",
      "8 8\n",
      "8 8\n",
      "8 8\n",
      "8 8\n",
      "8 8\n",
      "8 8\n",
      "8 8\n",
      "8 8\n",
      "8 8\n",
      "8 8\n",
      "8 8\n",
      "8 8\n",
      "8 8\n",
      "8 8\n",
      "8 8\n",
      "8 8\n",
      "8 8\n",
      "8 8\n",
      "8 8\n",
      "8 8\n",
      "8 8\n",
      "8 8\n",
      "8 8\n",
      "8 8\n",
      "8 8\n",
      "8 8\n",
      "8 8\n",
      "8 8\n",
      "8 8\n",
      "8 8\n",
      "8 8\n",
      "8 8\n",
      "8 8\n",
      "8 8\n",
      "8 8\n",
      "8 8\n",
      "8 8\n",
      "8 8\n",
      "8 8\n",
      "8 8\n",
      "8 8\n",
      "8 8\n",
      "8 8\n"
     ]
    }
   ],
   "source": [
    "for i in range(200):\n",
    "    # USing thee environment with random actions\n",
    "    env = gym.make('LunarLander-v2')\n",
    "    env.reset()\n",
    "    rewards = []\n",
    "    done = False\n",
    "    lengths = []\n",
    "    while not done:\n",
    "        action = env.action_space.sample()\n",
    "        obs, reward, done, _, info  = env.step(action)\n",
    "        lengths.append(len(obs))\n",
    "        rewards.append(reward)\n",
    "    print(min(lengths), max(lengths))"
   ]
  },
  {
   "cell_type": "code",
   "execution_count": 42,
   "metadata": {},
   "outputs": [
    {
     "data": {
      "text/plain": [
       "(array([ 0.00680161,  1.4063674 ,  0.6889165 , -0.20235749, -0.00787459,\n",
       "        -0.1560499 ,  0.        ,  0.        ], dtype=float32),\n",
       " {})"
      ]
     },
     "execution_count": 42,
     "metadata": {},
     "output_type": "execute_result"
    }
   ],
   "source": [
    "env.reset()"
   ]
  },
  {
   "cell_type": "code",
   "execution_count": 46,
   "metadata": {},
   "outputs": [],
   "source": [
    "a, b,c ,d, e = env.step(0)"
   ]
  },
  {
   "cell_type": "code",
   "execution_count": 47,
   "metadata": {},
   "outputs": [
    {
     "data": {
      "text/plain": [
       "array([ 0.02720795,  1.3891824 ,  0.68803257, -0.28137437, -0.03099762,\n",
       "       -0.15412304,  0.        ,  0.        ], dtype=float32)"
      ]
     },
     "execution_count": 47,
     "metadata": {},
     "output_type": "execute_result"
    }
   ],
   "source": [
    "a"
   ]
  },
  {
   "cell_type": "code",
   "execution_count": 8,
   "metadata": {},
   "outputs": [
    {
     "data": {
      "text/plain": [
       "115"
      ]
     },
     "execution_count": 8,
     "metadata": {},
     "output_type": "execute_result"
    }
   ],
   "source": [
    "len(rewards)"
   ]
  },
  {
   "cell_type": "code",
   "execution_count": 16,
   "metadata": {},
   "outputs": [
    {
     "data": {
      "text/plain": [
       "array([-0.9374373 ,  0.16288441, -1.2419778 , -0.06932734,  0.79287654,\n",
       "       -0.63573176,  0.        ,  1.        ], dtype=float32)"
      ]
     },
     "execution_count": 16,
     "metadata": {},
     "output_type": "execute_result"
    }
   ],
   "source": [
    "obs"
   ]
  },
  {
   "cell_type": "code",
   "execution_count": 9,
   "metadata": {},
   "outputs": [
    {
     "data": {
      "text/plain": [
       "True"
      ]
     },
     "execution_count": 9,
     "metadata": {},
     "output_type": "execute_result"
    }
   ],
   "source": [
    "done"
   ]
  },
  {
   "cell_type": "code",
   "execution_count": 13,
   "metadata": {},
   "outputs": [],
   "source": [
    "device = \"cpu\"\n",
    "action, eps = model.select_action(env, obs, 0.1, 1, 0.1, 1, device)"
   ]
  },
  {
   "cell_type": "code",
   "execution_count": 15,
   "metadata": {},
   "outputs": [
    {
     "data": {
      "text/plain": [
       "3"
      ]
     },
     "execution_count": 15,
     "metadata": {},
     "output_type": "execute_result"
    }
   ],
   "source": [
    "action.item()"
   ]
  },
  {
   "cell_type": "code",
   "execution_count": null,
   "metadata": {},
   "outputs": [],
   "source": []
  }
 ],
 "metadata": {
  "kernelspec": {
   "display_name": "rl_research",
   "language": "python",
   "name": "python3"
  },
  "language_info": {
   "codemirror_mode": {
    "name": "ipython",
    "version": 3
   },
   "file_extension": ".py",
   "mimetype": "text/x-python",
   "name": "python",
   "nbconvert_exporter": "python",
   "pygments_lexer": "ipython3",
   "version": "3.8.18"
  },
  "orig_nbformat": 4
 },
 "nbformat": 4,
 "nbformat_minor": 2
}
